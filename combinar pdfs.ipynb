{
 "cells": [
  {
   "cell_type": "code",
   "execution_count": 1,
   "id": "2f0a3b5e",
   "metadata": {},
   "outputs": [
    {
     "name": "stdout",
     "output_type": "stream",
     "text": [
      "Adicionado: Abaixo Assinado S_O_S.pdf\n",
      "Adicionado: paginas sos.pdf\n",
      "PDFs unidos com sucesso em 'pdf_unido.pdf'\n"
     ]
    }
   ],
   "source": [
    "import os\n",
    "from PyPDF2 import PdfMerger\n",
    "\n",
    "# Cria um objeto para fazer a junção\n",
    "merger = PdfMerger()\n",
    "\n",
    "# Lista dos arquivos PDF que você quer unir\n",
    "# Coloque os arquivos na mesma pasta do script\n",
    "arquivos_pdf = [\n",
    "    'arquivo1.pdf',\n",
    "    'arquivo2.pdf',\n",
    "    'arquivo3.pdf'\n",
    "]\n",
    "\n",
    "# Adiciona cada arquivo ao merger\n",
    "for pdf in arquivos_pdf:\n",
    "    if os.path.exists(pdf):\n",
    "        merger.append(pdf)\n",
    "        print(f'Adicionado: {pdf}')\n",
    "    else:\n",
    "        print(f'Arquivo não encontrado: {pdf}')\n",
    "\n",
    "# Salva o PDF unido\n",
    "merger.write(\"pdf_unido.pdf\")\n",
    "merger.close()\n",
    "\n",
    "print(\"PDFs unidos com sucesso em 'pdf_unido.pdf'\")"
   ]
  },
  {
   "cell_type": "code",
   "execution_count": null,
   "id": "117034c5",
   "metadata": {},
   "outputs": [],
   "source": []
  },
  {
   "cell_type": "code",
   "execution_count": null,
   "id": "13600ef8",
   "metadata": {},
   "outputs": [],
   "source": []
  }
 ],
 "metadata": {
  "kernelspec": {
   "display_name": "Python 3 (ipykernel)",
   "language": "python",
   "name": "python3"
  },
  "language_info": {
   "codemirror_mode": {
    "name": "ipython",
    "version": 3
   },
   "file_extension": ".py",
   "mimetype": "text/x-python",
   "name": "python",
   "nbconvert_exporter": "python",
   "pygments_lexer": "ipython3",
   "version": "3.11.5"
  }
 },
 "nbformat": 4,
 "nbformat_minor": 5
}
