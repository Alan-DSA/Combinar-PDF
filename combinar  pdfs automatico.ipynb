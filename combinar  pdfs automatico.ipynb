{
 "cells": [
  {
   "cell_type": "code",
   "execution_count": 2,
   "id": "716f17b6",
   "metadata": {},
   "outputs": [
    {
     "name": "stdout",
     "output_type": "stream",
     "text": [
      "Adicionado: Abaixo Assinado S_O_S.pdf\n",
      "Adicionado: paginas sos.pdf\n",
      "Adicionado: pdf_unido.pdf\n",
      "PDFs unidos com sucesso em 'pdf_unido.pdf'\n"
     ]
    }
   ],
   "source": [
    "import os\n",
    "from PyPDF2 import PdfMerger\n",
    "\n",
    "# Cria o objeto merger\n",
    "merger = PdfMerger()\n",
    "\n",
    "# Pasta onde estão os PDFs\n",
    "pasta = '.'\n",
    "\n",
    "# Lista todos os arquivos PDF na pasta\n",
    "arquivos_pdf = [f for f in os.listdir(pasta) if f.endswith('.pdf')]\n",
    "arquivos_pdf.sort()  # Ordena pelo nome dos arquivos\n",
    "\n",
    "# Adiciona os PDFs\n",
    "for pdf in arquivos_pdf:\n",
    "    merger.append(os.path.join(pasta, pdf))\n",
    "    print(f'Adicionado: {pdf}')\n",
    "\n",
    "# Salva o PDF final\n",
    "merger.write(\"pdf_unido.pdf\")\n",
    "merger.close()\n",
    "\n",
    "print(\"PDFs unidos com sucesso em 'pdf_unido.pdf'\")\n"
   ]
  },
  {
   "cell_type": "code",
   "execution_count": null,
   "id": "d3f240cd",
   "metadata": {},
   "outputs": [],
   "source": []
  }
 ],
 "metadata": {
  "kernelspec": {
   "display_name": "Python 3 (ipykernel)",
   "language": "python",
   "name": "python3"
  },
  "language_info": {
   "codemirror_mode": {
    "name": "ipython",
    "version": 3
   },
   "file_extension": ".py",
   "mimetype": "text/x-python",
   "name": "python",
   "nbconvert_exporter": "python",
   "pygments_lexer": "ipython3",
   "version": "3.11.5"
  }
 },
 "nbformat": 4,
 "nbformat_minor": 5
}
